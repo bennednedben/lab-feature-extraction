{
 "cells": [
  {
   "cell_type": "markdown",
   "id": "b4973176",
   "metadata": {},
   "source": [
    "##### 1) Open the categorical dataframe we created before.\n",
    "##### 2) Plot all the categorical variables with the proper plot. What can you see?\n",
    "##### 3) There might be some columns that seem to be redundant, check their values to be sure. What should we do with them?\n",
    "##### 4) Make any changes you feel are necessary.\n",
    "##### 5) Plot time variable. Can you extract something from it?\n",
    "##### 6) The time variable can be useful. You shoud transform its data into a more useful form. Hint: Day, week, and month as integers might be useful."
   ]
  },
  {
   "cell_type": "code",
   "execution_count": null,
   "id": "12e9181c",
   "metadata": {},
   "outputs": [],
   "source": [
    "# 1) Open the categorical dataframe we created before."
   ]
  }
 ],
 "metadata": {
  "kernelspec": {
   "display_name": "Python 3 (ipykernel)",
   "language": "python",
   "name": "python3"
  },
  "language_info": {
   "codemirror_mode": {
    "name": "ipython",
    "version": 3
   },
   "file_extension": ".py",
   "mimetype": "text/x-python",
   "name": "python",
   "nbconvert_exporter": "python",
   "pygments_lexer": "ipython3",
   "version": "3.9.12"
  }
 },
 "nbformat": 4,
 "nbformat_minor": 5
}
